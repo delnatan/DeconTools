{
 "cells": [
  {
   "cell_type": "code",
   "execution_count": 1,
   "id": "3c563c13-9ef0-4fe2-aac9-848d3371e120",
   "metadata": {},
   "outputs": [],
   "source": [
    "import colorcet as cc\n",
    "import DeconTools.operators as op\n",
    "import DeconTools.viz as viz\n",
    "import numpy as np\n",
    "import scipy.ndimage as ndi\n",
    "import torch\n",
    "\n",
    "%load_ext autoreload\n",
    "%autoreload 2\n",
    "%matplotlib qt"
   ]
  },
  {
   "cell_type": "code",
   "execution_count": 2,
   "id": "81cc80b8-0ec7-41ad-99d2-05c2fbe84baa",
   "metadata": {},
   "outputs": [],
   "source": [
    "# create test object (spherical shell)\n",
    "Nz, Ny, Nx = 80, 128, 128\n",
    "Z, Y, X = np.meshgrid(\n",
    "    np.arange(Nz), np.arange(Ny), np.arange(Nx), indexing=\"ij\"\n",
    ")\n",
    "\n",
    "R = np.sqrt((Z - 40) ** 2 + (Y - 64) ** 2 + (X - 64) ** 2)\n",
    "sphere = (R >= 25) & (R <= 27)\n",
    "sphere = ndi.gaussian_filter(sphere.astype(float), 1.25)"
   ]
  },
  {
   "cell_type": "code",
   "execution_count": 3,
   "id": "975a12a3-0701-41dc-8683-67e1a5e4c137",
   "metadata": {},
   "outputs": [
    {
     "name": "stderr",
     "output_type": "stream",
     "text": [
      "2024-12-10 15:46:02.003 python[12672:2787149] +[IMKClient subclass]: chose IMKClient_Modern\n",
      "2024-12-10 15:46:02.003 python[12672:2787149] +[IMKInputSession subclass]: chose IMKInputSession_Modern\n"
     ]
    }
   ],
   "source": [
    "viewer = viz.SimpleOrthoViewer(sphere)\n",
    "viewer.show()"
   ]
  },
  {
   "cell_type": "code",
   "execution_count": 4,
   "id": "3ced7e2e-c01a-42e6-a0a9-49e09501bf6e",
   "metadata": {},
   "outputs": [],
   "source": [
    "mps = torch.device(\"mps\")\n",
    "torch_sphere = torch.from_numpy(sphere.astype(np.float32)).to(mps)"
   ]
  },
  {
   "cell_type": "code",
   "execution_count": 33,
   "id": "f5cd2760-959d-419a-81a1-7d1e53d9f4df",
   "metadata": {},
   "outputs": [],
   "source": [
    "# create finite-difference operators\n",
    "d2ops = op.derivatives.compute_second_derivative_filters(3)\n",
    "# move them in torch device\n",
    "torch_d2ops = [torch.from_numpy(h.astype(np.float32)).to(mps) for h in d2ops]\n",
    "\n",
    "# define linear operators\n",
    "linops = [op.fftops.LinearOperator(h, (Nz, Ny, Nx)) for h in torch_d2ops]\n",
    "\n",
    "# define composite linear operator ℜ^N -> ℜ^6N\n",
    "H = op.fftops.CompositeLinearOperator(\n",
    "    linops, weights=[1.0, 1.0, 1.0, 1.414213, 1.414213, 1.414213]\n",
    ")"
   ]
  },
  {
   "cell_type": "code",
   "execution_count": 34,
   "id": "b0e0397f-e879-461e-9d68-983e35f4fb4a",
   "metadata": {},
   "outputs": [],
   "source": [
    "Dz = op.fftops.LinearOperator(torch.from_numpy(d1ops[0]).to(mps), (Nz, Ny, Nx))\n",
    "Dy = op.fftops.LinearOperator(torch.from_numpy(d1ops[1]).to(mps), (Nz, Ny, Nx))\n",
    "Dx = op.fftops.LinearOperator(torch.from_numpy(d1ops[2]).to(mps), (Nz, Ny, Nx))\n",
    "gg = H.dot(torch_sphere)"
   ]
  },
  {
   "cell_type": "code",
   "execution_count": 30,
   "id": "bbf91e4c-6f1b-4320-94bc-7ea41d00d6de",
   "metadata": {},
   "outputs": [],
   "source": [
    "gz = Dz.dot(torch_sphere)\n",
    "gy = Dy.dot(torch_sphere)\n",
    "gx = Dx.dot(torch_sphere)\n",
    "gyx = Dx.dot(gy)\n",
    "gyz = Dz.dot(gy)"
   ]
  },
  {
   "cell_type": "code",
   "execution_count": 42,
   "id": "8491cddd-76ca-4b4d-954e-466e40f6b1a2",
   "metadata": {},
   "outputs": [],
   "source": [
    "viewer = viz.SimpleOrthoViewer(gg[5].cpu().numpy(), cmap=cc.m_gouldian)"
   ]
  },
  {
   "cell_type": "code",
   "execution_count": 43,
   "id": "498b31ce-dfdb-4118-829b-512ae1162bdf",
   "metadata": {},
   "outputs": [
    {
     "data": {
      "text/plain": [
       "6"
      ]
     },
     "execution_count": 43,
     "metadata": {},
     "output_type": "execute_result"
    }
   ],
   "source": [
    "len(gg)"
   ]
  }
 ],
 "metadata": {
  "kernelspec": {
   "display_name": "torch (Python 3.11)",
   "language": "python",
   "name": "torch"
  },
  "language_info": {
   "codemirror_mode": {
    "name": "ipython",
    "version": 3
   },
   "file_extension": ".py",
   "mimetype": "text/x-python",
   "name": "python",
   "nbconvert_exporter": "python",
   "pygments_lexer": "ipython3",
   "version": "3.11.10"
  }
 },
 "nbformat": 4,
 "nbformat_minor": 5
}

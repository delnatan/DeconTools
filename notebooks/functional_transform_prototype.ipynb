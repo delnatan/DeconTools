{
 "cells": [
  {
   "cell_type": "code",
   "execution_count": 1,
   "id": "2961e8d1-8ff8-47d5-9c34-cedcfcdd193b",
   "metadata": {},
   "outputs": [],
   "source": [
    "from dataclasses import dataclass, field\n",
    "from typing import Tuple\n",
    "\n",
    "import DeconTools.viz as viz\n",
    "import matplotlib.colors as mcolors\n",
    "import matplotlib.pyplot as plt\n",
    "import numpy as np\n",
    "import scipy.fft as fft\n",
    "import tifffile\n",
    "from DeconTools.core.filters import compute_lanczos_filter\n",
    "from DeconTools.core.Models import TransformParams\n",
    "from DeconTools.core.PSF import MicroscopeParameters, psf3d\n",
    "\n",
    "%matplotlib qt"
   ]
  },
  {
   "cell_type": "code",
   "execution_count": 87,
   "id": "87a2947f-cfec-4cd4-aba2-d7f8aebdf4dd",
   "metadata": {},
   "outputs": [
    {
     "data": {
      "text/plain": [
       "<matplotlib.image.AxesImage at 0x307539250>"
      ]
     },
     "execution_count": 87,
     "metadata": {},
     "output_type": "execute_result"
    }
   ],
   "source": [
    "# get the 'best' or in-focus plane @ z=10\n",
    "data = tifffile.imread(\n",
    "    \"/Users/delnatan/BurgessLab/Seans spreads Daniel decon study/dxy_90nm/confocal 90 nm pixel .czi - C=1.tif\"\n",
    ").astype(np.float32)\n",
    "data = np.maximum(data, 0.0)[3]/ 100.0\n",
    "Ny, Nx = data.shape\n",
    "plt.imshow(data)"
   ]
  },
  {
   "cell_type": "code",
   "execution_count": 88,
   "id": "83efcca4-9722-4175-a70a-1f492eda0c85",
   "metadata": {},
   "outputs": [],
   "source": [
    "mpars = MicroscopeParameters(\n",
    "    excitation_wavelength=0.488,\n",
    "    emission_wavelength=0.530,\n",
    "    numerical_aperture=1.40,\n",
    "    sample_refractive_index=1.40,\n",
    "    immersion_refractive_index=1.515,\n",
    "    pixel_size=0.090,\n",
    "    confocal=False,\n",
    ")\n",
    "\n",
    "P = TransformParams(\n",
    "    data_shape=(Ny, Nx),\n",
    "    data_padding=(40, 40),\n",
    "    zoom_factor=(3, 3),\n",
    "    freq_cutoff=0.2,\n",
    "    microscope_parameters=mpars,\n",
    ")"
   ]
  },
  {
   "cell_type": "code",
   "execution_count": 89,
   "id": "69db9c62-6d5a-4185-abf4-00527179dfd3",
   "metadata": {},
   "outputs": [],
   "source": [
    "cutoff_mask = np.zeros(P.extended_object_rfft_shape)\n",
    "cutoff_mask[P.extended_data_rfft_indices] = 1.0"
   ]
  },
  {
   "cell_type": "code",
   "execution_count": 90,
   "id": "ffa15966-ad76-41bc-ac01-6da072a00ded",
   "metadata": {},
   "outputs": [
    {
     "data": {
      "text/plain": [
       "<matplotlib.image.AxesImage at 0x303fd3e50>"
      ]
     },
     "execution_count": 90,
     "metadata": {},
     "output_type": "execute_result"
    }
   ],
   "source": [
    "fig, ax = plt.subplots(ncols=2, figsize=(8, 3.5))\n",
    "ax[0].imshow(P.ftICF, norm=mcolors.PowerNorm(0.2))\n",
    "ax[0].imshow(cutoff_mask, alpha=0.2, cmap=\"gray\")\n",
    "ax[1].imshow(np.abs(P.OTF), norm=mcolors.PowerNorm(0.2))"
   ]
  },
  {
   "cell_type": "code",
   "execution_count": 91,
   "id": "5f4187a6-dad2-4bb2-8034-6544c439caec",
   "metadata": {},
   "outputs": [],
   "source": [
    "def forward(x: np.ndarray, T: TransformParams) -> np.ndarray:\n",
    "    X = fft.rfftn(x)\n",
    "    lpX = T.OTF * T.ftICF * X\n",
    "    # fourier crop\n",
    "    lpXcrop = lpX[T.extended_data_rfft_indices]\n",
    "    lpx = fft.irfftn(lpXcrop, s=T.extended_data_shape)\n",
    "    return lpx[T.data_slices]\n",
    "\n",
    "\n",
    "def adjoint(y: np.ndarray, T: TransformParams) -> np.ndarray:\n",
    "    # zero pad data\n",
    "    ypad = np.zeros(T.extended_data_shape)\n",
    "    ypad[T.data_slices] = y\n",
    "    Y = fft.rfftn(ypad)\n",
    "    # pad in Fourier domain\n",
    "    ftY = np.zeros(T.extended_object_rfft_shape, dtype=np.complex64)\n",
    "    ftY[T.extended_data_rfft_indices] = Y[T.extended_data_rfft_indices]\n",
    "    lpY = np.conj(T.ftICF) * np.conj(T.OTF) * ftY\n",
    "    return fft.irfftn(lpY * T.adjoint_iscale, s=T.extended_object_shape)"
   ]
  },
  {
   "cell_type": "code",
   "execution_count": 92,
   "id": "72809e30-b4fe-4dc6-84b2-d7c15c3a910e",
   "metadata": {},
   "outputs": [
    {
     "name": "stdout",
     "output_type": "stream",
     "text": [
      "Iteration = 13, logL ===         NAN"
     ]
    },
    {
     "name": "stderr",
     "output_type": "stream",
     "text": [
      "/var/folders/1c/fh23qkxx5sz2zxs355mj1ykm0000gn/T/ipykernel_11395/3098854016.py:8: RuntimeWarning: invalid value encountered in log\n",
      "  logL = np.sum(data * np.log(ratio + 1e-6) + model - data)\n"
     ]
    },
    {
     "name": "stdout",
     "output_type": "stream",
     "text": [
      "Iteration = 100, logL ===         NAN"
     ]
    }
   ],
   "source": [
    "# RL prototype\n",
    "f = np.ones(P.extended_object_shape, dtype=np.float32)\n",
    "hnorm = adjoint(np.ones(P.data_shape, dtype=np.float32), P)\n",
    "\n",
    "for i in range(100):\n",
    "    model = forward(f, P)\n",
    "    ratio = data / model\n",
    "    logL = np.sum(data * np.log(ratio + 1e-6) + model - data)\n",
    "    print(f\"\\rIteration = {i+1}, logL ==={logL:12.4E}\", end=\"\")\n",
    "    update = adjoint(ratio, P)\n",
    "    f *= update\n",
    "    f = np.where(hnorm > 1e-3, f / hnorm, f)"
   ]
  },
  {
   "cell_type": "code",
   "execution_count": 93,
   "id": "f49c43fd-a051-48e3-886b-cc65c806e5bf",
   "metadata": {},
   "outputs": [],
   "source": [
    "funpad = f[P.object_slices]"
   ]
  },
  {
   "cell_type": "code",
   "execution_count": 94,
   "id": "343465bb-f6c5-4311-87a4-f59b39d9d1d7",
   "metadata": {},
   "outputs": [
    {
     "data": {
      "text/plain": [
       "Text(0.5, 1.0, '3x Zoom-deconvolved')"
      ]
     },
     "execution_count": 94,
     "metadata": {},
     "output_type": "execute_result"
    }
   ],
   "source": [
    "fig, ax = plt.subplots(ncols=2, figsize=(10, 4.5))\n",
    "ax[0].imshow(data, cmap=\"magma\")\n",
    "ax[1].imshow(funpad, cmap=\"magma\")\n",
    "ax[0].set_title(\"input image\")\n",
    "ax[1].set_title(\"3x Zoom-deconvolved\")"
   ]
  },
  {
   "cell_type": "code",
   "execution_count": 11,
   "id": "27723e10-114f-41d1-ab95-b77de74ce786",
   "metadata": {},
   "outputs": [],
   "source": [
    "tifffile.imwrite(\"3x_airyscan_120nm_decon.tif\", funpad)\n",
    "tifffile.imwrite(\"3x_airyscan_120nm.tif\", data)"
   ]
  },
  {
   "cell_type": "code",
   "execution_count": null,
   "id": "d8698cd5-cb53-40a6-a572-141384686a8c",
   "metadata": {},
   "outputs": [],
   "source": []
  }
 ],
 "metadata": {
  "kernelspec": {
   "display_name": "imageprocs",
   "language": "python",
   "name": "imageprocs"
  },
  "language_info": {
   "codemirror_mode": {
    "name": "ipython",
    "version": 3
   },
   "file_extension": ".py",
   "mimetype": "text/x-python",
   "name": "python",
   "nbconvert_exporter": "python",
   "pygments_lexer": "ipython3",
   "version": "3.13.1"
  }
 },
 "nbformat": 4,
 "nbformat_minor": 5
}

{
 "cells": [
  {
   "cell_type": "code",
   "execution_count": 1,
   "id": "dcb75812-01d0-46b2-a28f-ffd4d0c3a2da",
   "metadata": {},
   "outputs": [
    {
     "name": "stderr",
     "output_type": "stream",
     "text": [
      "2025-02-20 06:43:11,565 - DeconTools - INFO - Logging level set to INFO\n"
     ]
    }
   ],
   "source": [
    "from DeconTools.core.Pupil import PupilFunction\n",
    "from DeconTools.core.ImagingModels import CarringtonModel\n",
    "from DeconTools.viz import SimpleOrthoViewer\n",
    "import ndv\n",
    "import numpy as np\n",
    "import matplotlib.pyplot as plt\n",
    "import tifffile\n",
    "import torch\n",
    "from imaris_file import ImarisReader\n",
    "%load_ext autoreload\n",
    "%autoreload 2\n",
    "# %matplotlib qt"
   ]
  },
  {
   "cell_type": "code",
   "execution_count": 16,
   "id": "1e23d721-d238-46cd-8a86-2e512ba44503",
   "metadata": {},
   "outputs": [
    {
     "name": "stdout",
     "output_type": "stream",
     "text": [
      "(21, 100, 100)\n"
     ]
    }
   ],
   "source": [
    "with ImarisReader('/Users/delnatan/BurgessLab/live_imaging/yeastTL_1_F1_crop.ims') as ims:\n",
    "    frame27 = ims.get_data(time_point=27)[:,200:200+100, 150:150+100]\n",
    "    print(frame27.shape)\n",
    "v = SimpleOrthoViewer(frame27)"
   ]
  },
  {
   "cell_type": "code",
   "execution_count": 4,
   "id": "7b253396-7ac9-4166-aa24-ad4c10f04727",
   "metadata": {},
   "outputs": [],
   "source": [
    "opars = {\n",
    "    \"NA\": 0.95,\n",
    "    \"ni\": 1.0,\n",
    "    \"ns\": 1.33,\n",
    "    \"wavelength\": 0.529,\n",
    "    \"dz\": 0.381,\n",
    "    \"dxy\": 0.1565,\n",
    "    \"source_depth\": 3.0\n",
    "}\n",
    "m = CarringtonModel(frame27.shape, (2.0, 3.0, 3.0), opars, device_str=\"cpu\")"
   ]
  },
  {
   "cell_type": "code",
   "execution_count": 5,
   "id": "1d476012-5d1a-44a7-9d15-5d59975da4ba",
   "metadata": {},
   "outputs": [],
   "source": [
    "MPS = torch.device(\"cpu\")\n",
    "d = torch.from_numpy(\n",
    "    np.maximum(frame27.astype(np.float32) - 100.0, 1e-5)\n",
    ").to(MPS)"
   ]
  },
  {
   "cell_type": "code",
   "execution_count": 6,
   "id": "6910276a-6e30-4d51-83b8-33882a7b6789",
   "metadata": {},
   "outputs": [],
   "source": [
    "xest = torch.ones(m.padded_object_shape, dtype=torch.float32, device=MPS) * d.mean()\n",
    "hnorm = m.adjoint(torch.ones(m.data_shape, dtype=torch.float32, device=MPS))    "
   ]
  },
  {
   "cell_type": "code",
   "execution_count": 8,
   "id": "79aeda98-d5ee-4542-9c15-2388341452ac",
   "metadata": {},
   "outputs": [
    {
     "name": "stdout",
     "output_type": "stream",
     "text": [
      "iter = 0\n",
      "iter = 1\n",
      "iter = 2\n",
      "iter = 3\n",
      "iter = 4\n",
      "iter = 5\n",
      "iter = 6\n",
      "iter = 7\n",
      "iter = 8\n",
      "iter = 9\n",
      "iter = 10\n",
      "iter = 11\n",
      "iter = 12\n",
      "iter = 13\n",
      "iter = 14\n",
      "iter = 15\n",
      "iter = 16\n",
      "iter = 17\n",
      "iter = 18\n",
      "iter = 19\n",
      "iter = 20\n",
      "iter = 21\n",
      "iter = 22\n",
      "iter = 23\n",
      "iter = 24\n",
      "iter = 25\n",
      "iter = 26\n",
      "iter = 27\n",
      "iter = 28\n",
      "iter = 29\n",
      "iter = 30\n",
      "iter = 31\n",
      "iter = 32\n",
      "iter = 33\n",
      "iter = 34\n",
      "iter = 35\n",
      "iter = 36\n",
      "iter = 37\n",
      "iter = 38\n",
      "iter = 39\n",
      "iter = 40\n",
      "iter = 41\n",
      "iter = 42\n",
      "iter = 43\n",
      "iter = 44\n",
      "iter = 45\n",
      "iter = 46\n",
      "iter = 47\n",
      "iter = 48\n",
      "iter = 49\n"
     ]
    }
   ],
   "source": [
    "for k in range(50):\n",
    "    print(f\"iter = {k}\")\n",
    "    model = m.forward(xest)\n",
    "    ratio = d / model\n",
    "    update = m.adjoint(ratio)\n",
    "    xest *= update\n",
    "    xest = torch.where(hnorm > 1e-4, xest / hnorm, xest)"
   ]
  },
  {
   "cell_type": "code",
   "execution_count": 9,
   "id": "15b1e6b4-b43c-4da5-81e1-6590b0f3d469",
   "metadata": {},
   "outputs": [],
   "source": [
    "xest_unpad = m.output_padder.adjoint(xest)"
   ]
  },
  {
   "cell_type": "code",
   "execution_count": 11,
   "id": "e3cd6606-cc5a-491e-9de9-0acadb3f3812",
   "metadata": {},
   "outputs": [],
   "source": [
    "%matplotlib qt"
   ]
  },
  {
   "cell_type": "code",
   "execution_count": 12,
   "id": "a85ab976-d5f0-4fcb-b71f-7e83ed85c8cc",
   "metadata": {},
   "outputs": [
    {
     "name": "stderr",
     "output_type": "stream",
     "text": [
      "2025-02-20 06:46:07.391 python[15897:1286405] +[IMKClient subclass]: chose IMKClient_Modern\n",
      "2025-02-20 06:46:07.391 python[15897:1286405] +[IMKInputSession subclass]: chose IMKInputSession_Modern\n"
     ]
    }
   ],
   "source": [
    "p99 = np.percentile(xest_unpad.cpu().numpy(), 99.99)\n",
    "v = SimpleOrthoViewer(xest_unpad.cpu().numpy(), \n",
    "                      norm=plt.Normalize(vmin=0, vmax=p99))"
   ]
  },
  {
   "cell_type": "code",
   "execution_count": 12,
   "id": "b98a7dc2-7b91-4dca-b3e2-3d95b91f31c2",
   "metadata": {},
   "outputs": [
    {
     "data": {
      "text/plain": [
       "tensor(nan, device='mps:0')"
      ]
     },
     "execution_count": 12,
     "metadata": {},
     "output_type": "execute_result"
    }
   ],
   "source": [
    "xest_unpad.max()"
   ]
  },
  {
   "cell_type": "code",
   "execution_count": 13,
   "id": "7f93aa7e-2ea9-4e7f-a749-c5f182942691",
   "metadata": {},
   "outputs": [],
   "source": [
    "v = SimpleOrthoViewer(d.cpu().numpy())"
   ]
  },
  {
   "cell_type": "code",
   "execution_count": null,
   "id": "b5f75900-d3a2-475a-94bd-afcad9ef98ef",
   "metadata": {},
   "outputs": [],
   "source": []
  }
 ],
 "metadata": {
  "kernelspec": {
   "display_name": "imageprocs",
   "language": "python",
   "name": "imageprocs"
  },
  "language_info": {
   "codemirror_mode": {
    "name": "ipython",
    "version": 3
   },
   "file_extension": ".py",
   "mimetype": "text/x-python",
   "name": "python",
   "nbconvert_exporter": "python",
   "pygments_lexer": "ipython3",
   "version": "3.13.1"
  }
 },
 "nbformat": 4,
 "nbformat_minor": 5
}

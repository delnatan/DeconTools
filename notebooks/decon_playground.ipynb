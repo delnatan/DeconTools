{
 "cells": [
  {
   "cell_type": "code",
   "execution_count": 78,
   "id": "561985ca-6a67-4f39-88d7-4597b0bd1fe4",
   "metadata": {},
   "outputs": [
    {
     "name": "stdout",
     "output_type": "stream",
     "text": [
      "The autoreload extension is already loaded. To reload it, use:\n",
      "  %reload_ext autoreload\n"
     ]
    }
   ],
   "source": [
    "from math import sqrt\n",
    "\n",
    "import colorcet as cc\n",
    "import DeconTools.core.proximals as prox\n",
    "import DeconTools.core.PSF as p\n",
    "import DeconTools.utils as utils\n",
    "import DeconTools.viz as viz\n",
    "import matplotlib.pyplot as plt\n",
    "import numpy as np\n",
    "import scipy.ndimage as ndi\n",
    "import torch\n",
    "from DeconTools.operators.derivatives import (\n",
    "    compute_first_derivative_filters,\n",
    "    compute_second_derivative_filters,\n",
    ")\n",
    "from DeconTools.operators.fftops import CompositeLinearOperator, LinearOperator\n",
    "from matplotlib.colors import PowerNorm\n",
    "from tifffile import imread\n",
    "\n",
    "from ADMM_torch import DeconADMM\n",
    "from FourierFilters import second_order_diffops_3d\n",
    "\n",
    "mps = torch.device(\"mps\")\n",
    "%load_ext autoreload\n",
    "%autoreload 2\n",
    "%matplotlib qt"
   ]
  },
  {
   "cell_type": "code",
   "execution_count": 14,
   "id": "dda9208c-e10f-47e1-9d78-aeb187c3385d",
   "metadata": {},
   "outputs": [],
   "source": [
    "# setup data and PSF\n",
    "yeast_dapi = imread(\"../data/dapi_img_crop.tif\")[:-1]\n",
    "yeast_dapi = np.maximum(yeast_dapi.astype(np.float32) - 100.0, 0.0)\n",
    "yeast_dapi = yeast_dapi[:, 230:230+128, 250:250+128]\n",
    "Nz, Ny, Nx = yeast_dapi.shape\n",
    "\n",
    "params = p.MicroscopeParameters(\n",
    "    excitation_wavelength=0.485,\n",
    "    emission_wavelength=0.529,\n",
    "    numerical_aperture=0.6,\n",
    "    immersion_refractive_index=1.0,\n",
    "    sample_refractive_index=1.36,\n",
    "    pixel_size=0.1565,\n",
    ")\n",
    "\n",
    "pu = p.PupilFunction(params=params, Nx=Nx, Ny=Ny)\n",
    "zslices = p.compute_z_planes(Nz, dz=0.580)\n",
    "psf3d = pu.calculate_confocal_3D_psf(zslices)\n",
    "psf3d /= psf3d.sum()"
   ]
  },
  {
   "cell_type": "code",
   "execution_count": 15,
   "id": "74fe204d-4f92-456d-964b-07d6c3a2610d",
   "metadata": {},
   "outputs": [],
   "source": [
    "# der2filts = compute_second_derivative_filters(3)\n",
    "# der2ops = [LinearOperator(h, (Nz, Ny, Nx)) for h in der2filts]\n",
    "# DD = CompositeLinearOperator(der2ops)\n",
    "L2 = second_order_diffops_3d(Nz, Ny, Nx, lateral_to_axial_ratio=0.269)\n",
    "L2 = [l.astype(np.complex64) for l in L2]"
   ]
  },
  {
   "cell_type": "code",
   "execution_count": 79,
   "id": "23141720-f9cb-4fd2-9576-c498bebdf959",
   "metadata": {},
   "outputs": [],
   "source": [
    "# problem setup\n",
    "# torch_psf3d = torch.from_numpy(psf3d.astype(np.float32)).to(mps)\n",
    "# b = torch.from_numpy(yeast_dapi.astype(np.float32)).to(mps)\n",
    "b = yeast_dapi.astype(np.float32)\n",
    "b = ndi.gaussian_filter(b, 1.2)\n",
    "H = LinearOperator(psf3d, (Nz, Ny, Nx))"
   ]
  },
  {
   "cell_type": "code",
   "execution_count": 80,
   "id": "17cb73bc-0b50-4dc4-b46c-571df334307f",
   "metadata": {},
   "outputs": [],
   "source": [
    "otf = H.ft_kernel\n",
    "p = DeconADMM(b, otf, L2, device=\"mps\")"
   ]
  },
  {
   "cell_type": "code",
   "execution_count": 81,
   "id": "a9038416-6858-4cdd-b1da-44d4ccc8c0f7",
   "metadata": {},
   "outputs": [
    {
     "name": "stdout",
     "output_type": "stream",
     "text": [
      "0.5090504898764309\n",
      "Iteration  100, RMSE =     0.7831"
     ]
    }
   ],
   "source": [
    "p.reset()\n",
    "lam = 1e-2\n",
    "rho = 6000 * lam / b.max()\n",
    "print(rho)\n",
    "for _ in range(100):\n",
    "    p.step(rho, lam, 1.0, regularization=\"SCAD\", a=3.7)"
   ]
  },
  {
   "cell_type": "code",
   "execution_count": 83,
   "id": "7a78babe-e93e-467a-90ff-0df5b2fc363c",
   "metadata": {},
   "outputs": [],
   "source": [
    "sol = p.x.detach().cpu().numpy()\n",
    "clo, chi = np.percentile(sol, (0.1, 99.99))\n",
    "\n",
    "viewer = viz.SimpleOrthoViewer(\n",
    "    p.x.detach().cpu().numpy(),\n",
    "    cmap=cc.m_gouldian,\n",
    "    norm=plt.Normalize(vmin=clo, vmax=chi),\n",
    ")"
   ]
  },
  {
   "cell_type": "code",
   "execution_count": null,
   "id": "0530bea1-48d8-4f5c-af81-e0d7be0d0a1c",
   "metadata": {},
   "outputs": [],
   "source": []
  }
 ],
 "metadata": {
  "kernelspec": {
   "display_name": "torch (Python 3.11)",
   "language": "python",
   "name": "torch"
  },
  "language_info": {
   "codemirror_mode": {
    "name": "ipython",
    "version": 3
   },
   "file_extension": ".py",
   "mimetype": "text/x-python",
   "name": "python",
   "nbconvert_exporter": "python",
   "pygments_lexer": "ipython3",
   "version": "3.11.10"
  }
 },
 "nbformat": 4,
 "nbformat_minor": 5
}
